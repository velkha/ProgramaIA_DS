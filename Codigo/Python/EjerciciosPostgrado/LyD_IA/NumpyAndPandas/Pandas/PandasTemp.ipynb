{
 "cells": [
  {
   "cell_type": "code",
   "execution_count": 5,
   "metadata": {},
   "outputs": [
    {
     "name": "stdout",
     "output_type": "stream",
     "text": [
      "Requirement already satisfied: numpy in c:\\users\\diego\\.pyenv\\pyenv-win\\versions\\3.10.11\\lib\\site-packages (1.26.4)\n",
      "Note: you may need to restart the kernel to use updated packages.\n"
     ]
    },
    {
     "name": "stderr",
     "output_type": "stream",
     "text": [
      "\n",
      "[notice] A new release of pip is available: 23.0.1 -> 24.0\n",
      "[notice] To update, run: c:\\Users\\diego\\.pyenv\\pyenv-win\\versions\\3.10.11\\python.exe -m pip install --upgrade pip\n"
     ]
    },
    {
     "name": "stdout",
     "output_type": "stream",
     "text": [
      "Requirement already satisfied: matplotlib in c:\\users\\diego\\.pyenv\\pyenv-win\\versions\\3.10.11\\lib\\site-packages (3.8.4)\n",
      "Requirement already satisfied: numpy>=1.21 in c:\\users\\diego\\.pyenv\\pyenv-win\\versions\\3.10.11\\lib\\site-packages (from matplotlib) (1.26.4)\n",
      "Requirement already satisfied: pillow>=8 in c:\\users\\diego\\.pyenv\\pyenv-win\\versions\\3.10.11\\lib\\site-packages (from matplotlib) (10.3.0)\n",
      "Requirement already satisfied: kiwisolver>=1.3.1 in c:\\users\\diego\\.pyenv\\pyenv-win\\versions\\3.10.11\\lib\\site-packages (from matplotlib) (1.4.5)\n",
      "Requirement already satisfied: pyparsing>=2.3.1 in c:\\users\\diego\\.pyenv\\pyenv-win\\versions\\3.10.11\\lib\\site-packages (from matplotlib) (3.1.2)\n",
      "Requirement already satisfied: contourpy>=1.0.1 in c:\\users\\diego\\.pyenv\\pyenv-win\\versions\\3.10.11\\lib\\site-packages (from matplotlib) (1.2.1)\n",
      "Requirement already satisfied: packaging>=20.0 in c:\\users\\diego\\.pyenv\\pyenv-win\\versions\\3.10.11\\lib\\site-packages (from matplotlib) (24.0)\n",
      "Requirement already satisfied: cycler>=0.10 in c:\\users\\diego\\.pyenv\\pyenv-win\\versions\\3.10.11\\lib\\site-packages (from matplotlib) (0.12.1)\n",
      "Requirement already satisfied: fonttools>=4.22.0 in c:\\users\\diego\\.pyenv\\pyenv-win\\versions\\3.10.11\\lib\\site-packages (from matplotlib) (4.51.0)\n",
      "Requirement already satisfied: python-dateutil>=2.7 in c:\\users\\diego\\.pyenv\\pyenv-win\\versions\\3.10.11\\lib\\site-packages (from matplotlib) (2.9.0.post0)\n",
      "Requirement already satisfied: six>=1.5 in c:\\users\\diego\\.pyenv\\pyenv-win\\versions\\3.10.11\\lib\\site-packages (from python-dateutil>=2.7->matplotlib) (1.16.0)\n",
      "Note: you may need to restart the kernel to use updated packages.\n"
     ]
    },
    {
     "name": "stderr",
     "output_type": "stream",
     "text": [
      "\n",
      "[notice] A new release of pip is available: 23.0.1 -> 24.0\n",
      "[notice] To update, run: c:\\Users\\diego\\.pyenv\\pyenv-win\\versions\\3.10.11\\python.exe -m pip install --upgrade pip\n"
     ]
    },
    {
     "name": "stdout",
     "output_type": "stream",
     "text": [
      "Requirement already satisfied: pandas in c:\\users\\diego\\.pyenv\\pyenv-win\\versions\\3.10.11\\lib\\site-packages (2.2.2)Note: you may need to restart the kernel to use updated packages.\n",
      "\n",
      "Requirement already satisfied: numpy>=1.22.4 in c:\\users\\diego\\.pyenv\\pyenv-win\\versions\\3.10.11\\lib\\site-packages (from pandas) (1.26.4)\n",
      "Requirement already satisfied: tzdata>=2022.7 in c:\\users\\diego\\.pyenv\\pyenv-win\\versions\\3.10.11\\lib\\site-packages (from pandas) (2024.1)\n",
      "Requirement already satisfied: python-dateutil>=2.8.2 in c:\\users\\diego\\.pyenv\\pyenv-win\\versions\\3.10.11\\lib\\site-packages (from pandas) (2.9.0.post0)\n",
      "Requirement already satisfied: pytz>=2020.1 in c:\\users\\diego\\.pyenv\\pyenv-win\\versions\\3.10.11\\lib\\site-packages (from pandas) (2024.1)\n",
      "Requirement already satisfied: six>=1.5 in c:\\users\\diego\\.pyenv\\pyenv-win\\versions\\3.10.11\\lib\\site-packages (from python-dateutil>=2.8.2->pandas) (1.16.0)\n"
     ]
    },
    {
     "name": "stderr",
     "output_type": "stream",
     "text": [
      "\n",
      "[notice] A new release of pip is available: 23.0.1 -> 24.0\n",
      "[notice] To update, run: c:\\Users\\diego\\.pyenv\\pyenv-win\\versions\\3.10.11\\python.exe -m pip install --upgrade pip\n"
     ]
    },
    {
     "name": "stdout",
     "output_type": "stream",
     "text": [
      "Requirement already satisfied: spicy in c:\\users\\diego\\.pyenv\\pyenv-win\\versions\\3.10.11\\lib\\site-packages (0.16.0)\n",
      "Requirement already satisfied: scipy in c:\\users\\diego\\.pyenv\\pyenv-win\\versions\\3.10.11\\lib\\site-packages (from spicy) (1.13.0)\n",
      "Requirement already satisfied: numpy<2.3,>=1.22.4 in c:\\users\\diego\\.pyenv\\pyenv-win\\versions\\3.10.11\\lib\\site-packages (from scipy->spicy) (1.26.4)\n",
      "Note: you may need to restart the kernel to use updated packages.\n"
     ]
    },
    {
     "name": "stderr",
     "output_type": "stream",
     "text": [
      "\n",
      "[notice] A new release of pip is available: 23.0.1 -> 24.0\n",
      "[notice] To update, run: c:\\Users\\diego\\.pyenv\\pyenv-win\\versions\\3.10.11\\python.exe -m pip install --upgrade pip\n"
     ]
    },
    {
     "name": "stdout",
     "output_type": "stream",
     "text": [
      "Requirement already satisfied: xarray in c:\\users\\diego\\.pyenv\\pyenv-win\\versions\\3.10.11\\lib\\site-packages (2024.3.0)\n",
      "Requirement already satisfied: numpy>=1.23 in c:\\users\\diego\\.pyenv\\pyenv-win\\versions\\3.10.11\\lib\\site-packages (from xarray) (1.26.4)\n",
      "Requirement already satisfied: pandas>=1.5 in c:\\users\\diego\\.pyenv\\pyenv-win\\versions\\3.10.11\\lib\\site-packages (from xarray) (2.2.2)\n",
      "Requirement already satisfied: packaging>=22 in c:\\users\\diego\\.pyenv\\pyenv-win\\versions\\3.10.11\\lib\\site-packages (from xarray) (24.0)\n",
      "Requirement already satisfied: python-dateutil>=2.8.2 in c:\\users\\diego\\.pyenv\\pyenv-win\\versions\\3.10.11\\lib\\site-packages (from pandas>=1.5->xarray) (2.9.0.post0)\n",
      "Requirement already satisfied: pytz>=2020.1 in c:\\users\\diego\\.pyenv\\pyenv-win\\versions\\3.10.11\\lib\\site-packages (from pandas>=1.5->xarray) (2024.1)\n",
      "Requirement already satisfied: tzdata>=2022.7 in c:\\users\\diego\\.pyenv\\pyenv-win\\versions\\3.10.11\\lib\\site-packages (from pandas>=1.5->xarray) (2024.1)\n",
      "Requirement already satisfied: six>=1.5 in c:\\users\\diego\\.pyenv\\pyenv-win\\versions\\3.10.11\\lib\\site-packages (from python-dateutil>=2.8.2->pandas>=1.5->xarray) (1.16.0)\n",
      "Note: you may need to restart the kernel to use updated packages.\n"
     ]
    },
    {
     "name": "stderr",
     "output_type": "stream",
     "text": [
      "\n",
      "[notice] A new release of pip is available: 23.0.1 -> 24.0\n",
      "[notice] To update, run: c:\\Users\\diego\\.pyenv\\pyenv-win\\versions\\3.10.11\\python.exe -m pip install --upgrade pip\n"
     ]
    },
    {
     "name": "stdout",
     "output_type": "stream",
     "text": [
      "Note: you may need to restart the kernel to use updated packages.\n"
     ]
    },
    {
     "name": "stderr",
     "output_type": "stream",
     "text": [
      "\n",
      "[notice] A new release of pip is available: 23.0.1 -> 24.0\n",
      "[notice] To update, run: c:\\Users\\diego\\.pyenv\\pyenv-win\\versions\\3.10.11\\python.exe -m pip install --upgrade pip\n"
     ]
    },
    {
     "name": "stdout",
     "output_type": "stream",
     "text": [
      "Requirement already satisfied: netCDF4 in c:\\users\\diego\\.pyenv\\pyenv-win\\versions\\3.10.11\\lib\\site-packages (1.6.5)\n",
      "Requirement already satisfied: h5netcdf in c:\\users\\diego\\.pyenv\\pyenv-win\\versions\\3.10.11\\lib\\site-packages (1.3.0)\n",
      "Requirement already satisfied: cftime in c:\\users\\diego\\.pyenv\\pyenv-win\\versions\\3.10.11\\lib\\site-packages (from netCDF4) (1.6.3)\n",
      "Requirement already satisfied: numpy in c:\\users\\diego\\.pyenv\\pyenv-win\\versions\\3.10.11\\lib\\site-packages (from netCDF4) (1.26.4)\n",
      "Requirement already satisfied: certifi in c:\\users\\diego\\.pyenv\\pyenv-win\\versions\\3.10.11\\lib\\site-packages (from netCDF4) (2024.2.2)\n",
      "Requirement already satisfied: h5py in c:\\users\\diego\\.pyenv\\pyenv-win\\versions\\3.10.11\\lib\\site-packages (from h5netcdf) (3.11.0)\n",
      "Requirement already satisfied: packaging in c:\\users\\diego\\.pyenv\\pyenv-win\\versions\\3.10.11\\lib\\site-packages (from h5netcdf) (24.0)\n",
      "Collecting dask\n",
      "  Downloading dask-2024.5.0-py3-none-any.whl (1.2 MB)\n",
      "     ---------------------------------------- 0.0/1.2 MB ? eta -:--:--\n",
      "      --------------------------------------- 0.0/1.2 MB 1.3 MB/s eta 0:00:01\n",
      "     --- ------------------------------------ 0.1/1.2 MB 1.8 MB/s eta 0:00:01\n",
      "     ---------- ----------------------------- 0.3/1.2 MB 2.8 MB/s eta 0:00:01\n",
      "     ------------------- -------------------- 0.6/1.2 MB 4.1 MB/s eta 0:00:01\n",
      "     ---------------------------- ----------- 0.9/1.2 MB 5.1 MB/s eta 0:00:01\n",
      "     ---------------------------------------- 1.2/1.2 MB 6.5 MB/s eta 0:00:00\n",
      "Collecting partd>=1.2.0\n",
      "  Downloading partd-1.4.1-py3-none-any.whl (18 kB)\n",
      "Requirement already satisfied: packaging>=20.0 in c:\\users\\diego\\.pyenv\\pyenv-win\\versions\\3.10.11\\lib\\site-packages (from dask) (24.0)\n",
      "Collecting cloudpickle>=1.5.0\n",
      "  Downloading cloudpickle-3.0.0-py3-none-any.whl (20 kB)\n",
      "Collecting importlib-metadata>=4.13.0\n",
      "  Downloading importlib_metadata-7.1.0-py3-none-any.whl (24 kB)\n",
      "Collecting click>=8.1\n",
      "  Using cached click-8.1.7-py3-none-any.whl (97 kB)\n",
      "Collecting toolz>=0.10.0\n",
      "  Using cached toolz-0.12.1-py3-none-any.whl (56 kB)\n",
      "Collecting pyyaml>=5.3.1\n",
      "  Using cached PyYAML-6.0.1-cp310-cp310-win_amd64.whl (145 kB)\n",
      "Collecting fsspec>=2021.09.0\n",
      "  Using cached fsspec-2024.3.1-py3-none-any.whl (171 kB)\n",
      "Requirement already satisfied: colorama in c:\\users\\diego\\.pyenv\\pyenv-win\\versions\\3.10.11\\lib\\site-packages (from click>=8.1->dask) (0.4.6)\n",
      "Collecting zipp>=0.5\n",
      "  Downloading zipp-3.18.1-py3-none-any.whl (8.2 kB)\n",
      "Collecting locket\n",
      "  Downloading locket-1.0.0-py2.py3-none-any.whl (4.4 kB)\n",
      "Installing collected packages: zipp, toolz, pyyaml, locket, fsspec, cloudpickle, click, partd, importlib-metadata, dask\n",
      "Successfully installed click-8.1.7 cloudpickle-3.0.0 dask-2024.5.0 fsspec-2024.3.1 importlib-metadata-7.1.0 locket-1.0.0 partd-1.4.1 pyyaml-6.0.1 toolz-0.12.1 zipp-3.18.1\n",
      "Note: you may need to restart the kernel to use updated packages.\n"
     ]
    },
    {
     "name": "stderr",
     "output_type": "stream",
     "text": [
      "  WARNING: The script dask.exe is installed in 'c:\\Users\\diego\\.pyenv\\pyenv-win\\versions\\3.10.11\\Scripts' which is not on PATH.\n",
      "  Consider adding this directory to PATH or, if you prefer to suppress this warning, use --no-warn-script-location.\n",
      "\n",
      "[notice] A new release of pip is available: 23.0.1 -> 24.0\n",
      "[notice] To update, run: c:\\Users\\diego\\.pyenv\\pyenv-win\\versions\\3.10.11\\python.exe -m pip install --upgrade pip\n"
     ]
    }
   ],
   "source": [
    "\n",
    "%pip install numpy\n",
    "%pip install matplotlib\n",
    "%pip install pandas\n",
    "%pip install spicy\n",
    "%pip install xarray\n",
    "%pip install netCDF4 h5netcdf\n",
    "%pip install dask"
   ]
  },
  {
   "cell_type": "code",
   "execution_count": 1,
   "metadata": {},
   "outputs": [],
   "source": [
    "import xarray as xr\n",
    "import numpy as np\n",
    "import matplotlib.pyplot as plt\n",
    "import pandas as pd"
   ]
  },
  {
   "cell_type": "code",
   "execution_count": 5,
   "metadata": {},
   "outputs": [
    {
     "name": "stdout",
     "output_type": "stream",
     "text": [
      "7278658864\n",
      "xarray.Dataset {\n",
      "dimensions:\n",
      "\tlon = 230 ;\n",
      "\tlat = 190 ;\n",
      "\tTime = 41638 ;\n",
      "\n",
      "variables:\n",
      "\tfloat64 lon(lon) ;\n",
      "\t\tlon:units = degrees_east ;\n",
      "\t\tlon:long_name = lon ;\n",
      "\t\tlon:axis = X ;\n",
      "\tfloat64 lat(lat) ;\n",
      "\t\tlat:units = degrees_north ;\n",
      "\t\tlat:long_name = lat ;\n",
      "\t\tlat:axis = Y ;\n",
      "\tdatetime64[ns] Time(Time) ;\n",
      "\t\tTime:long_name = Time ;\n",
      "\t\tTime:axis = T ;\n",
      "\tfloat32 tx(Time, lat, lon) ;\n",
      "\t\ttx:units = Celsius degrees ;\n",
      "\t\ttx:long_name = Maximum temperature ;\n",
      "\n",
      "// global attributes:\n",
      "\t:title = Daily maximum temperature of peninsular Spain ;\n",
      "\t:history = version 1.0 ;\n",
      "\t:keywords = daily, maximum temperature, peninsular Spain, Spain ;\n",
      "\t:creator_name = Roberto Serrano-Notivoli; Martin de Luis; Santiago Beguería ;\n",
      "\t:maintainer_name = Roberto Serrano-Notivoli ;\n",
      "\t:maintainer_email = rs@unizar.es ;\n",
      "\t:institution = University of Zaragoza and CSIC ;\n",
      "\t:processing_level = Quality-controlled. Final values. ;\n",
      "\t:acknowledgment = This study was supported by research projects financed by the Spanish Ministerio de Economía y Competitividad (MINECO) and FEDER-ERDF funds. We were financially supported by the Government of Aragón through the ‘Programme of research groups’ (groups ‘H38, Clima, Cambio Global y Sistemas Naturales’ and ‘E68, Geomorfología y Cambio Global’) ;\n",
      "\t:units = Celsius degrees ;\n",
      "\t:id = STEAD ;\n",
      "\t:sources = AEMET and MAGRAMA ;\n",
      "\t:naming_authority = Spanish TEmperature At Daily scale ;\n",
      "}None\n"
     ]
    }
   ],
   "source": [
    "ds = xr.open_dataset('../../datasets/tmax_pen.nc', chunks={'time': 10})\n",
    "print(ds.nbytes)\n",
    "print(ds.info())"
   ]
  },
  {
   "cell_type": "code",
   "execution_count": 11,
   "metadata": {},
   "outputs": [
    {
     "name": "stdout",
     "output_type": "stream",
     "text": [
      "                                tx\n",
      "lon       lat       Time          \n",
      "-9.672583 44.169965 2013-08-20 NaN\n",
      "                    2013-08-21 NaN\n",
      "                    2013-08-22 NaN\n",
      "                    2013-08-23 NaN\n",
      "                    2013-08-24 NaN\n",
      "...                             ..\n",
      " 3.723917 35.664965 2014-12-28 NaN\n",
      "                    2014-12-29 NaN\n",
      "                    2014-12-30 NaN\n",
      "                    2014-12-31 NaN\n",
      "                    2015-01-01 NaN\n",
      "\n",
      "[21850000 rows x 1 columns]\n"
     ]
    }
   ],
   "source": [
    "subset = ds.isel(Time=slice(-500, None))\n",
    "df = subset.to_dataframe()\n",
    "print(df)"
   ]
  },
  {
   "cell_type": "code",
   "execution_count": 10,
   "metadata": {},
   "outputs": [
    {
     "name": "stdout",
     "output_type": "stream",
     "text": [
      "Celsius degrees\n"
     ]
    }
   ],
   "source": [
    "temp_units = ds['tx'].attrs['units']\n",
    "print(temp_units)"
   ]
  }
 ],
 "metadata": {
  "kernelspec": {
   "display_name": "Python 3",
   "language": "python",
   "name": "python3"
  },
  "language_info": {
   "codemirror_mode": {
    "name": "ipython",
    "version": 3
   },
   "file_extension": ".py",
   "mimetype": "text/x-python",
   "name": "python",
   "nbconvert_exporter": "python",
   "pygments_lexer": "ipython3",
   "version": "3.10.11"
  }
 },
 "nbformat": 4,
 "nbformat_minor": 2
}
