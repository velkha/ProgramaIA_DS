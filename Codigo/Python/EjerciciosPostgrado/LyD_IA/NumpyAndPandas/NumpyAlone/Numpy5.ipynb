{
 "cells": [
  {
   "cell_type": "markdown",
   "metadata": {},
   "source": [
    "### Metodos estadisticos"
   ]
  },
  {
   "cell_type": "code",
   "execution_count": 1,
   "metadata": {},
   "outputs": [],
   "source": [
    "import numpy as np\n",
    "from spicy import stats"
   ]
  },
  {
   "cell_type": "markdown",
   "metadata": {},
   "source": [
    "* Para ver mas operaciones ir a:\n",
    "* https://github.com/velkha/ProgramaIA_DS/tree/main/Codigo/Python/CalculadoraStPb\n",
    "* En la clase: https://github.com/velkha/ProgramaIA_DS/blob/main/Codigo/Python/CalculadoraStPb/main/menus/menus_show.py\n",
    "* Estan todas las operaciones que hace\n",
    "No tiene comprobado buen hacer del usuario en caso de querer descargarla/usarla. En caso de querer añadirlo a los selectores de el package \"menus\""
   ]
  },
  {
   "cell_type": "code",
   "execution_count": 2,
   "metadata": {},
   "outputs": [
    {
     "name": "stdout",
     "output_type": "stream",
     "text": [
      "[[1960.     47.35  543.3   180.67]\n",
      " [1961.     49.88  563.3   183.69]\n",
      " [1962.     54.65  605.1   186.54]\n",
      " [1963.     54.56  638.6   189.24]\n",
      " [1964.     53.43  685.8   191.89]]\n"
     ]
    }
   ],
   "source": [
    "\n",
    "# Specify the file path\n",
    "filepath = '../../datasets/MilitarySpending.csv'\n",
    "\n",
    "# Read the CSV file using numpy\n",
    "data = np.genfromtxt(filepath, delimiter=',', skip_header=1)\n",
    "\n",
    "# Print the first 5 rows of the dataset\n",
    "print(data[:5])"
   ]
  },
  {
   "cell_type": "code",
   "execution_count": 4,
   "metadata": {},
   "outputs": [
    {
     "name": "stdout",
     "output_type": "stream",
     "text": [
      "[1990.          324.43557377 7680.18557377  255.03393443]\n",
      "2562.413770491803\n",
      "[1990.    295.85 5963.14  249.62]\n",
      "715.565\n",
      "ModeResult(mode=array([1960.  ,   54.56,  543.3 ,  180.67]), count=array([1., 2., 1., 1.]))\n",
      "ModeResult(mode=array([1960.  ,   54.56,  543.3 ,  180.67]), count=array([1., 2., 1., 1.]))\n"
     ]
    }
   ],
   "source": [
    "#mean for each col\n",
    "mean = np.mean(data, axis=0)\n",
    "print(mean)\n",
    "print(np.mean(data))\n",
    "\n",
    "#median\n",
    "median = np.median(data, axis=0)\n",
    "print(median)\n",
    "print(np.median(data))\n",
    "\n",
    "#mode\n",
    "mode = stats.mode(data, axis=0)\n",
    "print(mode)\n",
    "print(stats.mode(data))\n"
   ]
  },
  {
   "cell_type": "code",
   "execution_count": 5,
   "metadata": {},
   "outputs": [
    {
     "name": "stdout",
     "output_type": "stream",
     "text": [
      "233.37964220377617\n",
      "4425.598871499975\n",
      "54466.057395162585\n",
      "19585925.371421847\n",
      "778.0\n",
      "21433.22\n",
      "47.35\n",
      "47.35\n"
     ]
    }
   ],
   "source": [
    "#standard deviation\n",
    "#second colm\n",
    "std = np.std(data[:,1])\n",
    "print(std)\n",
    "print(np.std(data))\n",
    "\n",
    "#variance\n",
    "var = np.var(data[:,1])\n",
    "print(var)\n",
    "print(np.var(data))\n",
    "\n",
    "#max min\n",
    "max = np.max(data[:,1])\n",
    "print(max)\n",
    "print(np.max(data))\n",
    "\n",
    "min = np.min(data[:,1])\n",
    "print(min)\n",
    "print(np.min(data))\n"
   ]
  },
  {
   "cell_type": "code",
   "execution_count": null,
   "metadata": {},
   "outputs": [],
   "source": []
  }
 ],
 "metadata": {
  "kernelspec": {
   "display_name": "Python 3",
   "language": "python",
   "name": "python3"
  },
  "language_info": {
   "codemirror_mode": {
    "name": "ipython",
    "version": 3
   },
   "file_extension": ".py",
   "mimetype": "text/x-python",
   "name": "python",
   "nbconvert_exporter": "python",
   "pygments_lexer": "ipython3",
   "version": "3.10.11"
  }
 },
 "nbformat": 4,
 "nbformat_minor": 2
}
