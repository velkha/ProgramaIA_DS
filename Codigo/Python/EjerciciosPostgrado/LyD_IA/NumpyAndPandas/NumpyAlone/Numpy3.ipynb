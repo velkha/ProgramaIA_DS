{
 "cells": [
  {
   "cell_type": "markdown",
   "metadata": {},
   "source": [
    "### Operaciones"
   ]
  },
  {
   "cell_type": "markdown",
   "metadata": {},
   "source": [
    "* Para ver mas operaciones ir a:\n",
    "* https://github.com/velkha/ProgramaIA_DS/tree/main/Codigo/Python/CalculadoraStPb\n",
    "* En la clase: https://github.com/velkha/ProgramaIA_DS/blob/main/Codigo/Python/CalculadoraStPb/main/menus/menus_show.py\n",
    "* Estan todas las operaciones que hace\n",
    "No tiene comprobado buen hacer del usuario en caso de querer descargarla/usarla. En caso de querer añadirlo a los selectores de el package \"menus\""
   ]
  },
  {
   "cell_type": "code",
   "execution_count": 1,
   "metadata": {},
   "outputs": [],
   "source": [
    "import numpy as np"
   ]
  },
  {
   "cell_type": "code",
   "execution_count": 2,
   "metadata": {},
   "outputs": [
    {
     "name": "stdout",
     "output_type": "stream",
     "text": [
      "['Year' 'DefenseBudget' 'GDP' 'Population']\n",
      "[[1960.     47.35  543.3   180.67]\n",
      " [1961.     49.88  563.3   183.69]\n",
      " [1962.     54.65  605.1   186.54]\n",
      " [1963.     54.56  638.6   189.24]\n",
      " [1964.     53.43  685.8   191.89]]\n"
     ]
    }
   ],
   "source": [
    "\n",
    "# path to the dataset\n",
    "filepath = '../../datasets/MilitarySpending.csv'\n",
    "\n",
    "# csv with numpy\n",
    "headers = np.genfromtxt(filepath, delimiter=',', max_rows=1, dtype=str)\n",
    "data = np.genfromtxt(filepath, delimiter=',', skip_header=1)\n",
    "\n",
    "# Print the first 5 rows of the dataset\n",
    "print(headers)\n",
    "print(data[:5])"
   ]
  },
  {
   "cell_type": "code",
   "execution_count": 5,
   "metadata": {},
   "outputs": [],
   "source": [
    "data1 = data[1, :]\n",
    "data2 = data[2, :]\n",
    "data3 = data[3, :]\n",
    "data4 = data[4, :]\n",
    "data5 = data[5, :]\n",
    "data6 = data[6, :]"
   ]
  },
  {
   "cell_type": "code",
   "execution_count": 11,
   "metadata": {},
   "outputs": [
    {
     "name": "stdout",
     "output_type": "stream",
     "text": [
      "sum [11781.     333.52  4051.5   1142.22]\n",
      "substraction [-7859.    -233.76 -2924.9   -774.84]\n",
      "prod [5.73039353e+19 2.88058127e+10 9.04791870e+16 4.75215626e+13]\n",
      "div [6.71074504e-14 8.63719565e-08 3.50696001e-12 7.10035913e-10]\n"
     ]
    }
   ],
   "source": [
    "#sum\n",
    "print(\"sum\", data1 + data2 + data3 + data4 + data5 + data6)\n",
    "#substraction\n",
    "print(\"substraction\", data1 - data2 - data3 - data4 - data5 - data6)\n",
    "#prod\n",
    "print(\"prod\", data1 * data2 * data3 * data4 * data5 * data6)\n",
    "#div\n",
    "print(\"div\", data1 / data2 / data3 / data4 / data5 / data6)"
   ]
  },
  {
   "cell_type": "code",
   "execution_count": 12,
   "metadata": {},
   "outputs": [
    {
     "name": "stdout",
     "output_type": "stream",
     "text": [
      "cumsum [1961.   2010.88 2574.18 2757.87]\n",
      "cumprod [1.96100000e+03 9.78146800e+04 5.50990092e+07 1.01211370e+10]\n",
      "cumdiv [1.96100000e+03 9.78146800e+04 5.50990092e+07 1.01211370e+10]\n"
     ]
    }
   ],
   "source": [
    "#cumsum (cumulative sum)\n",
    "print(\"cumsum\", data1.cumsum())\n",
    "#cumprod (cumulative product)\n",
    "print(\"cumprod\", data1.cumprod())\n",
    "#cumdiv (cumulative division)\n",
    "print(\"cumdiv\", data1.cumprod())"
   ]
  },
  {
   "cell_type": "code",
   "execution_count": 13,
   "metadata": {},
   "outputs": [
    {
     "name": "stdout",
     "output_type": "stream",
     "text": [
      "Square:  [44.28317965  7.06257743 23.73394194 13.5532284 ]\n",
      "cubic [12.51677747  3.68108191  8.25872966  5.68453797]\n",
      "log [7.58120983 3.90962012 6.33381235 5.21324955]\n",
      "expon [2.68811714e+43 4.59842129e+21 2.68811714e+43 2.68811714e+43]\n",
      "sin [ 0.60214428 -0.37600623 -0.81626465  0.99566279]\n",
      "cos [ 0.79838729  0.92661713 -0.57767814  0.0930355 ]\n"
     ]
    }
   ],
   "source": [
    "#square root\n",
    "print(\"Square: \",np.sqrt(data1))\n",
    "#cubic root\n",
    "print(\"cubic\", np.cbrt(data1))\n",
    "#exponential\n",
    "#print(np.exp(data1)) overrflow\n",
    "#logarithm\n",
    "print(\"log\", np.log(data1))\n",
    "\n",
    "# Set a maximum value for elements in data1\n",
    "max_value = 100\n",
    "data1_clipped = np.clip(data1, a_min=None, a_max=max_value)\n",
    "print(\"expon\", np.exp(data1_clipped))\n",
    "\n",
    "#sin\n",
    "print(\"sin\", np.sin(data1))\n",
    "#cos\n",
    "print(\"cos\", np.cos(data1))"
   ]
  },
  {
   "cell_type": "code",
   "execution_count": 18,
   "metadata": {},
   "outputs": [
    {
     "name": "stdout",
     "output_type": "stream",
     "text": [
      "[[ 49.88 563.3  183.69]\n",
      " [ 54.65 605.1  186.54]\n",
      " [ 54.56 638.6  189.24]]\n",
      "[[ 53.43 685.8  191.89]\n",
      " [ 54.56 743.7  194.3 ]\n",
      " [ 66.44 815.   196.56]]\n",
      "[[  78.4   861.7   198.71]\n",
      " [  84.33  942.5   200.71]\n",
      " [  84.99 1019.9   202.68]\n",
      " [  83.41 1073.3   205.05]]\n",
      "[[  78.24 1164.85  207.66]\n",
      " [  80.71 1279.11  209.9 ]\n",
      " [  81.47 1425.38  211.91]]\n"
     ]
    }
   ],
   "source": [
    "data_algLin = data[1:4, 1:4]\n",
    "data_algLin2 = data[4:7, 1:4]\n",
    "data_algLin3 = data[7:11, 1:4]\n",
    "data_algLin4 = data[11:14, 1:4]\n",
    "\n",
    "print(data_algLin)\n",
    "print(data_algLin2)\n",
    "print(data_algLin3)\n",
    "print(data_algLin4)\n"
   ]
  },
  {
   "cell_type": "code",
   "execution_count": null,
   "metadata": {},
   "outputs": [],
   "source": [
    "# Scalar product\n",
    "print(\"Scalar product: \", np.dot(data_algLin, data_algLin2))\n",
    "# Cross product\n",
    "print(\"Cross product: \", np.cross(data_algLin, data_algLin2))\n",
    "# Matrix multiplication\n",
    "print(\"Matrix multiplication: \", np.matmul(data_algLin, data_algLin2))\n",
    "#Inverse\n",
    "print(\"Inverse: \", np.linalg.inv(data_algLin))\n",
    "#Determinant\n",
    "print(\"Determinant: \", np.linalg.det(data_algLin))\n",
    "#Eigenvalues and eigenvectors\n",
    "r, q = np.linalg.eig(data_algLin)\n",
    "print(\"Eigenvalues: \", r)\n",
    "print(\"Eigenvectors: \", q)\n"
   ]
  }
 ],
 "metadata": {
  "kernelspec": {
   "display_name": "Python 3",
   "language": "python",
   "name": "python3"
  },
  "language_info": {
   "codemirror_mode": {
    "name": "ipython",
    "version": 3
   },
   "file_extension": ".py",
   "mimetype": "text/x-python",
   "name": "python",
   "nbconvert_exporter": "python",
   "pygments_lexer": "ipython3",
   "version": "3.10.11"
  }
 },
 "nbformat": 4,
 "nbformat_minor": 2
}
