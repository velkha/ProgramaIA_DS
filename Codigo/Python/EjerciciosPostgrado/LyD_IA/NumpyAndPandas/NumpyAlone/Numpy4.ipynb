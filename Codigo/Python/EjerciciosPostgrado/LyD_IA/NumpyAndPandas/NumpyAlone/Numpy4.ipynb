{
 "cells": [
  {
   "cell_type": "markdown",
   "metadata": {},
   "source": [
    "### Ordenaciones y busquedas"
   ]
  },
  {
   "cell_type": "code",
   "execution_count": 2,
   "metadata": {},
   "outputs": [],
   "source": [
    "import numpy as np"
   ]
  },
  {
   "cell_type": "code",
   "execution_count": 3,
   "metadata": {},
   "outputs": [
    {
     "name": "stdout",
     "output_type": "stream",
     "text": [
      "[[1960.     47.35  543.3   180.67]\n",
      " [1961.     49.88  563.3   183.69]\n",
      " [1962.     54.65  605.1   186.54]\n",
      " [1963.     54.56  638.6   189.24]\n",
      " [1964.     53.43  685.8   191.89]]\n"
     ]
    }
   ],
   "source": [
    "\n",
    "# Specify the file path\n",
    "filepath = '../../datasets/MilitarySpending.csv'\n",
    "\n",
    "# Read the CSV file using numpy\n",
    "data = np.genfromtxt(filepath, delimiter=',', skip_header=1)\n",
    "\n",
    "# Print the first 5 rows of the dataset\n",
    "print(data[:5])"
   ]
  },
  {
   "cell_type": "code",
   "execution_count": 9,
   "metadata": {},
   "outputs": [
    {
     "name": "stdout",
     "output_type": "stream",
     "text": [
      "[[  49.88  563.3   183.69]\n",
      " [  54.65  605.1   186.54]\n",
      " [  54.56  638.6   189.24]\n",
      " [  53.43  685.8   191.89]\n",
      " [  54.56  743.7   194.3 ]\n",
      " [  66.44  815.    196.56]\n",
      " [  78.4   861.7   198.71]\n",
      " [  84.33  942.5   200.71]\n",
      " [  84.99 1019.9   202.68]]\n",
      "[49.88 54.65 54.56 53.43 54.56 66.44 78.4  84.33 84.99]\n"
     ]
    }
   ],
   "source": [
    "databi1 = data[1:10, 1:8]\n",
    "datam = data[1:10, 1]\n",
    "print(databi1)\n",
    "print(datam)"
   ]
  },
  {
   "cell_type": "code",
   "execution_count": 12,
   "metadata": {},
   "outputs": [
    {
     "name": "stdout",
     "output_type": "stream",
     "text": [
      "[84.99 49.88 78.4  54.56 66.44 53.43 54.56 84.33 54.65]\n",
      "[49.88 53.43 54.56 54.56 54.65 66.44 78.4  84.33 84.99]\n",
      "[[  84.99  638.6   189.24]\n",
      " [  66.44  942.5   200.71]\n",
      " [  78.4   605.1   186.54]\n",
      " [  54.56  743.7   194.3 ]\n",
      " [  84.33  685.8   191.89]\n",
      " [  49.88 1019.9   202.68]\n",
      " [  53.43  861.7   198.71]\n",
      " [  54.56  563.3   183.69]\n",
      " [  54.65  815.    196.56]]\n",
      "[[  49.88  563.3   183.69]\n",
      " [  53.43  605.1   186.54]\n",
      " [  54.56  638.6   189.24]\n",
      " [  54.56  685.8   191.89]\n",
      " [  54.65  743.7   194.3 ]\n",
      " [  66.44  815.    196.56]\n",
      " [  78.4   861.7   198.71]\n",
      " [  84.33  942.5   200.71]\n",
      " [  84.99 1019.9   202.68]]\n",
      "[[  49.88  183.69  563.3 ]\n",
      " [  53.43  186.54  605.1 ]\n",
      " [  54.56  189.24  638.6 ]\n",
      " [  54.56  191.89  685.8 ]\n",
      " [  54.65  194.3   743.7 ]\n",
      " [  66.44  196.56  815.  ]\n",
      " [  78.4   198.71  861.7 ]\n",
      " [  84.33  200.71  942.5 ]\n",
      " [  84.99  202.68 1019.9 ]]\n"
     ]
    }
   ],
   "source": [
    "#randomize order of array values\n",
    "np.random.shuffle(datam)\n",
    "print(datam)\n",
    "#np.sort(datam)\n",
    "datam.sort()\n",
    "print(datam)\n",
    "\n",
    "np.random.shuffle(databi1)\n",
    "print(databi1)\n",
    "databi1.sort(axis=0)\n",
    "print(databi1)\n",
    "databi1.sort(axis=1)\n",
    "print(databi1)\n"
   ]
  },
  {
   "cell_type": "code",
   "execution_count": 16,
   "metadata": {},
   "outputs": [
    {
     "name": "stdout",
     "output_type": "stream",
     "text": [
      "0\n",
      "8\n",
      "[49.88 53.43 54.56 54.56 54.65]\n",
      "(array([1, 2, 3, 4, 5, 6, 7, 8], dtype=int64),)\n",
      "['no' 'yes' 'yes' 'yes' 'yes' 'yes' 'yes' 'yes' 'yes']\n"
     ]
    }
   ],
   "source": [
    "min = np.argmin(datam)\n",
    "max = np.argmax(datam)\n",
    "print(min)\n",
    "print(max)\n",
    "dataFiltered  = datam[(datam > 40) & (datam < 60)]\n",
    "print(dataFiltered)\n",
    "dataFiltered2  = np.where(datam > 50)\n",
    "print(dataFiltered2)\n",
    "dataFiltered3  = np.where(datam > 50, 'yes', 'no')\n",
    "print(dataFiltered3)\n"
   ]
  }
 ],
 "metadata": {
  "kernelspec": {
   "display_name": "Python 3",
   "language": "python",
   "name": "python3"
  },
  "language_info": {
   "codemirror_mode": {
    "name": "ipython",
    "version": 3
   },
   "file_extension": ".py",
   "mimetype": "text/x-python",
   "name": "python",
   "nbconvert_exporter": "python",
   "pygments_lexer": "ipython3",
   "version": "3.10.11"
  }
 },
 "nbformat": 4,
 "nbformat_minor": 2
}
