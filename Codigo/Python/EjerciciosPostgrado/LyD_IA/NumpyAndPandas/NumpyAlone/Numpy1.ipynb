{
 "cells": [
  {
   "cell_type": "markdown",
   "metadata": {},
   "source": [
    "### COMIENZO NUMPY y Carga de datos\n"
   ]
  },
  {
   "cell_type": "code",
   "execution_count": null,
   "metadata": {},
   "outputs": [],
   "source": [
    "%pip install numpy\n",
    "%pip install matplotlib\n",
    "%pip install pandas\n"
   ]
  },
  {
   "cell_type": "code",
   "execution_count": 1,
   "metadata": {},
   "outputs": [],
   "source": [
    "import numpy as np\n",
    "import matplotlib.pyplot as plt\n",
    "import pandas as pd"
   ]
  },
  {
   "cell_type": "code",
   "execution_count": 4,
   "metadata": {},
   "outputs": [
    {
     "name": "stdout",
     "output_type": "stream",
     "text": [
      "[[1960.     47.35  543.3   180.67]\n",
      " [1961.     49.88  563.3   183.69]\n",
      " [1962.     54.65  605.1   186.54]\n",
      " [1963.     54.56  638.6   189.24]\n",
      " [1964.     53.43  685.8   191.89]]\n"
     ]
    }
   ],
   "source": [
    "\n",
    "# Specify the file path\n",
    "filepath = '../../datasets/MilitarySpending.csv'\n",
    "\n",
    "# Read the CSV file using numpy\n",
    "data = np.genfromtxt(filepath, delimiter=',', skip_header=1)\n",
    "\n",
    "# Print the first 5 rows of the dataset\n",
    "print(data[:5])\n"
   ]
  }
 ],
 "metadata": {
  "kernelspec": {
   "display_name": "Python 3",
   "language": "python",
   "name": "python3"
  },
  "language_info": {
   "codemirror_mode": {
    "name": "ipython",
    "version": 3
   },
   "file_extension": ".py",
   "mimetype": "text/x-python",
   "name": "python",
   "nbconvert_exporter": "python",
   "pygments_lexer": "ipython3",
   "version": "3.10.11"
  }
 },
 "nbformat": 4,
 "nbformat_minor": 2
}
