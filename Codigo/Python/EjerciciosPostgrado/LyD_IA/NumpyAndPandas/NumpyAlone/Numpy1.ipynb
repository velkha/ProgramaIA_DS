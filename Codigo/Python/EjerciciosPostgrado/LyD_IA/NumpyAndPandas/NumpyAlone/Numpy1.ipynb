{
 "cells": [
  {
   "cell_type": "markdown",
   "metadata": {},
   "source": [
    "### COMIENZO NUMPY y Carga de datos\n"
   ]
  },
  {
   "cell_type": "code",
   "execution_count": 5,
   "metadata": {},
   "outputs": [
    {
     "name": "stdout",
     "output_type": "stream",
     "text": [
      "Requirement already satisfied: numpy in c:\\users\\diego\\.pyenv\\pyenv-win\\versions\\3.10.11\\lib\\site-packages (1.26.4)\n",
      "Note: you may need to restart the kernel to use updated packages.\n"
     ]
    },
    {
     "name": "stderr",
     "output_type": "stream",
     "text": [
      "\n",
      "[notice] A new release of pip is available: 23.0.1 -> 24.0\n",
      "[notice] To update, run: c:\\Users\\diego\\.pyenv\\pyenv-win\\versions\\3.10.11\\python.exe -m pip install --upgrade pip\n"
     ]
    },
    {
     "name": "stdout",
     "output_type": "stream",
     "text": [
      "Requirement already satisfied: matplotlib in c:\\users\\diego\\.pyenv\\pyenv-win\\versions\\3.10.11\\lib\\site-packages (3.8.4)\n",
      "Requirement already satisfied: pillow>=8 in c:\\users\\diego\\.pyenv\\pyenv-win\\versions\\3.10.11\\lib\\site-packages (from matplotlib) (10.3.0)\n",
      "Requirement already satisfied: fonttools>=4.22.0 in c:\\users\\diego\\.pyenv\\pyenv-win\\versions\\3.10.11\\lib\\site-packages (from matplotlib) (4.51.0)\n",
      "Requirement already satisfied: contourpy>=1.0.1 in c:\\users\\diego\\.pyenv\\pyenv-win\\versions\\3.10.11\\lib\\site-packages (from matplotlib) (1.2.1)\n",
      "Requirement already satisfied: kiwisolver>=1.3.1 in c:\\users\\diego\\.pyenv\\pyenv-win\\versions\\3.10.11\\lib\\site-packages (from matplotlib) (1.4.5)\n",
      "Requirement already satisfied: numpy>=1.21 in c:\\users\\diego\\.pyenv\\pyenv-win\\versions\\3.10.11\\lib\\site-packages (from matplotlib) (1.26.4)\n",
      "Requirement already satisfied: python-dateutil>=2.7 in c:\\users\\diego\\.pyenv\\pyenv-win\\versions\\3.10.11\\lib\\site-packages (from matplotlib) (2.9.0.post0)\n",
      "Requirement already satisfied: packaging>=20.0 in c:\\users\\diego\\.pyenv\\pyenv-win\\versions\\3.10.11\\lib\\site-packages (from matplotlib) (24.0)\n",
      "Requirement already satisfied: pyparsing>=2.3.1 in c:\\users\\diego\\.pyenv\\pyenv-win\\versions\\3.10.11\\lib\\site-packages (from matplotlib) (3.1.2)\n",
      "Requirement already satisfied: cycler>=0.10 in c:\\users\\diego\\.pyenv\\pyenv-win\\versions\\3.10.11\\lib\\site-packages (from matplotlib) (0.12.1)\n",
      "Requirement already satisfied: six>=1.5 in c:\\users\\diego\\.pyenv\\pyenv-win\\versions\\3.10.11\\lib\\site-packages (from python-dateutil>=2.7->matplotlib) (1.16.0)\n",
      "Note: you may need to restart the kernel to use updated packages.\n"
     ]
    },
    {
     "name": "stderr",
     "output_type": "stream",
     "text": [
      "\n",
      "[notice] A new release of pip is available: 23.0.1 -> 24.0\n",
      "[notice] To update, run: c:\\Users\\diego\\.pyenv\\pyenv-win\\versions\\3.10.11\\python.exe -m pip install --upgrade pip\n"
     ]
    },
    {
     "name": "stdout",
     "output_type": "stream",
     "text": [
      "Requirement already satisfied: pandas in c:\\users\\diego\\.pyenv\\pyenv-win\\versions\\3.10.11\\lib\\site-packages (2.2.2)\n",
      "Requirement already satisfied: numpy>=1.22.4 in c:\\users\\diego\\.pyenv\\pyenv-win\\versions\\3.10.11\\lib\\site-packages (from pandas) (1.26.4)\n",
      "Requirement already satisfied: tzdata>=2022.7 in c:\\users\\diego\\.pyenv\\pyenv-win\\versions\\3.10.11\\lib\\site-packages (from pandas) (2024.1)\n",
      "Requirement already satisfied: python-dateutil>=2.8.2 in c:\\users\\diego\\.pyenv\\pyenv-win\\versions\\3.10.11\\lib\\site-packages (from pandas) (2.9.0.post0)\n",
      "Requirement already satisfied: pytz>=2020.1 in c:\\users\\diego\\.pyenv\\pyenv-win\\versions\\3.10.11\\lib\\site-packages (from pandas) (2024.1)\n",
      "Requirement already satisfied: six>=1.5 in c:\\users\\diego\\.pyenv\\pyenv-win\\versions\\3.10.11\\lib\\site-packages (from python-dateutil>=2.8.2->pandas) (1.16.0)\n",
      "Note: you may need to restart the kernel to use updated packages.\n"
     ]
    },
    {
     "name": "stderr",
     "output_type": "stream",
     "text": [
      "\n",
      "[notice] A new release of pip is available: 23.0.1 -> 24.0\n",
      "[notice] To update, run: c:\\Users\\diego\\.pyenv\\pyenv-win\\versions\\3.10.11\\python.exe -m pip install --upgrade pip\n"
     ]
    },
    {
     "name": "stdout",
     "output_type": "stream",
     "text": [
      "Collecting spicy\n",
      "  Downloading spicy-0.16.0-py2.py3-none-any.whl (1.7 kB)\n",
      "Collecting scipy\n",
      "  Downloading scipy-1.13.0-cp310-cp310-win_amd64.whl (46.2 MB)\n",
      "     ---------------------------------------- 0.0/46.2 MB ? eta -:--:--\n",
      "     ---------------------------------------- 0.4/46.2 MB 11.6 MB/s eta 0:00:04\n",
      "     - -------------------------------------- 1.6/46.2 MB 20.0 MB/s eta 0:00:03\n",
      "     -- ------------------------------------- 2.8/46.2 MB 22.1 MB/s eta 0:00:02\n",
      "     --- ------------------------------------ 4.4/46.2 MB 25.2 MB/s eta 0:00:02\n",
      "     ---- ----------------------------------- 5.5/46.2 MB 25.2 MB/s eta 0:00:02\n",
      "     ------ --------------------------------- 7.6/46.2 MB 28.6 MB/s eta 0:00:02\n",
      "     -------- ------------------------------ 10.3/46.2 MB 32.8 MB/s eta 0:00:02\n",
      "     ----------- --------------------------- 13.2/46.2 MB 46.7 MB/s eta 0:00:01\n",
      "     ------------- ------------------------- 16.4/46.2 MB 59.5 MB/s eta 0:00:01\n",
      "     ---------------- ---------------------- 19.7/46.2 MB 65.6 MB/s eta 0:00:01\n",
      "     ------------------- ------------------- 23.3/46.2 MB 72.6 MB/s eta 0:00:01\n",
      "     ---------------------- ---------------- 26.5/46.2 MB 72.6 MB/s eta 0:00:01\n",
      "     ------------------------ -------------- 29.5/46.2 MB 72.6 MB/s eta 0:00:01\n",
      "     --------------------------- ----------- 32.8/46.2 MB 72.6 MB/s eta 0:00:01\n",
      "     ------------------------------ -------- 36.4/46.2 MB 72.6 MB/s eta 0:00:01\n",
      "     -------------------------------- ------ 39.1/46.2 MB 72.6 MB/s eta 0:00:01\n",
      "     ---------------------------------- ---- 41.1/46.2 MB 65.6 MB/s eta 0:00:01\n",
      "     ------------------------------------- - 43.9/46.2 MB 59.5 MB/s eta 0:00:01\n",
      "     --------------------------------------  46.2/46.2 MB 54.7 MB/s eta 0:00:01\n",
      "     --------------------------------------  46.2/46.2 MB 54.7 MB/s eta 0:00:01\n",
      "     --------------------------------------- 46.2/46.2 MB 34.4 MB/s eta 0:00:00\n",
      "Requirement already satisfied: numpy<2.3,>=1.22.4 in c:\\users\\diego\\.pyenv\\pyenv-win\\versions\\3.10.11\\lib\\site-packages (from scipy->spicy) (1.26.4)\n",
      "Installing collected packages: scipy, spicy\n",
      "Successfully installed scipy-1.13.0 spicy-0.16.0\n",
      "Note: you may need to restart the kernel to use updated packages.\n"
     ]
    },
    {
     "name": "stderr",
     "output_type": "stream",
     "text": [
      "\n",
      "[notice] A new release of pip is available: 23.0.1 -> 24.0\n",
      "[notice] To update, run: c:\\Users\\diego\\.pyenv\\pyenv-win\\versions\\3.10.11\\python.exe -m pip install --upgrade pip\n"
     ]
    }
   ],
   "source": [
    "%pip install numpy\n",
    "%pip install matplotlib\n",
    "%pip install pandas\n",
    "%pip install spicy"
   ]
  },
  {
   "cell_type": "code",
   "execution_count": 1,
   "metadata": {},
   "outputs": [],
   "source": [
    "import numpy as np\n",
    "import matplotlib.pyplot as plt\n",
    "import pandas as pd"
   ]
  },
  {
   "cell_type": "code",
   "execution_count": 4,
   "metadata": {},
   "outputs": [
    {
     "name": "stdout",
     "output_type": "stream",
     "text": [
      "[[1960.     47.35  543.3   180.67]\n",
      " [1961.     49.88  563.3   183.69]\n",
      " [1962.     54.65  605.1   186.54]\n",
      " [1963.     54.56  638.6   189.24]\n",
      " [1964.     53.43  685.8   191.89]]\n"
     ]
    }
   ],
   "source": [
    "\n",
    "# Specify the file path\n",
    "filepath = '../../datasets/MilitarySpending.csv'\n",
    "\n",
    "# Read the CSV file using numpy\n",
    "data = np.genfromtxt(filepath, delimiter=',', skip_header=1)\n",
    "\n",
    "# Print the first 5 rows of the dataset\n",
    "print(data[:5])\n"
   ]
  }
 ],
 "metadata": {
  "kernelspec": {
   "display_name": "Python 3",
   "language": "python",
   "name": "python3"
  },
  "language_info": {
   "codemirror_mode": {
    "name": "ipython",
    "version": 3
   },
   "file_extension": ".py",
   "mimetype": "text/x-python",
   "name": "python",
   "nbconvert_exporter": "python",
   "pygments_lexer": "ipython3",
   "version": "3.10.11"
  }
 },
 "nbformat": 4,
 "nbformat_minor": 2
}
