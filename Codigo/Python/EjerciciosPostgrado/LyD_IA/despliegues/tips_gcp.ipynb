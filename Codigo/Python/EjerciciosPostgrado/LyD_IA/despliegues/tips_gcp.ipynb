{
 "cells": [
  {
   "cell_type": "code",
   "execution_count": 4,
   "metadata": {},
   "outputs": [
    {
     "data": {
      "text/plain": [
       "[<google.cloud.aiplatform.models.Endpoint object at 0x0000022220E4AD40> \n",
       " resource name: projects/311213903434/locations/us-central1/endpoints/1514245214749851648,\n",
       " <google.cloud.aiplatform.models.Endpoint object at 0x0000022220E4AE90> \n",
       " resource name: projects/311213903434/locations/us-central1/endpoints/6369125613055246336]"
      ]
     },
     "execution_count": 4,
     "metadata": {},
     "output_type": "execute_result"
    }
   ],
   "source": [
    "from google.cloud import aiplatform\n",
    "from google.oauth2 import service_account\n",
    "\n",
    "credentials = service_account.Credentials.from_service_account_file('credentials.json')\n",
    "aiplatform.init(\n",
    "    project='ejemplo-gcp-for-ai',\n",
    "    location='us-central1',\n",
    "    credentials=credentials\n",
    ")\n",
    "\n",
    "aiplatform.Endpoint.list()"
   ]
  },
  {
   "cell_type": "code",
   "execution_count": 5,
   "metadata": {},
   "outputs": [],
   "source": [
    "url = \"projects/311213903434/locations/us-central1/endpoints/1514245214749851648\"\n",
    "model = aiplatform.Endpoint(endpoint_name=url)"
   ]
  },
  {
   "cell_type": "code",
   "execution_count": 7,
   "metadata": {},
   "outputs": [
    {
     "data": {
      "text/plain": [
       "Prediction(predictions=[1055426465.426886, 910723288.6624324, 766020111.89798], deployed_model_id='5132785260760662016', metadata=None, model_version_id='1', model_resource_name='projects/311213903434/locations/us-central1/models/4367692293595987968', explanations=None)"
      ]
     },
     "execution_count": 7,
     "metadata": {},
     "output_type": "execute_result"
    }
   ],
   "source": [
    "instances = [\n",
    "    [0.1] * 455,  # Each instance is a list of 455 features\n",
    "    [0.2] * 455,\n",
    "    [0.3] * 455\n",
    "]\n",
    "result = model.predict(instances=instances)\n",
    "result"
   ]
  },
  {
   "cell_type": "code",
   "execution_count": null,
   "metadata": {},
   "outputs": [],
   "source": [
    "import pandas as pd\n",
    "pd.DataFrame({\n",
    "    'Experience_Years': [3.1, 5.9, 9.1],\n",
    "    'Salary_predictions': result.predictions\n",
    "})"
   ]
  }
 ],
 "metadata": {
  "kernelspec": {
   "display_name": "Python 3",
   "language": "python",
   "name": "python3"
  },
  "language_info": {
   "codemirror_mode": {
    "name": "ipython",
    "version": 3
   },
   "file_extension": ".py",
   "mimetype": "text/x-python",
   "name": "python",
   "nbconvert_exporter": "python",
   "pygments_lexer": "ipython3",
   "version": "3.10.10"
  }
 },
 "nbformat": 4,
 "nbformat_minor": 2
}
